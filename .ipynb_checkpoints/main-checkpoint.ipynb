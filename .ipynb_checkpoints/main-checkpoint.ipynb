{
 "cells": [
  {
   "cell_type": "markdown",
   "id": "2324f904",
   "metadata": {},
   "source": [
    "# grade optimization"
   ]
  },
  {
   "cell_type": "code",
   "execution_count": 1,
   "id": "d2337d7d",
   "metadata": {},
   "outputs": [
    {
     "name": "stdout",
     "output_type": "stream",
     "text": [
      "what # quarter are you in right now?: 1\n",
      "what average grade do you need at the END of the school year?: 94\n",
      "grade for Q1 >> 80\n",
      "[80, 98.66666666666667, 98.66666666666667, 98.66666666666667]\n"
     ]
    },
    {
     "ename": "NameError",
     "evalue": "name 'plt' is not defined",
     "output_type": "error",
     "traceback": [
      "\u001b[0;31m---------------------------------------------------------------------------\u001b[0m",
      "\u001b[0;31mNameError\u001b[0m                                 Traceback (most recent call last)",
      "Cell \u001b[0;32mIn [1], line 34\u001b[0m\n\u001b[1;32m     32\u001b[0m ypoints_avg \u001b[38;5;241m=\u001b[39m average(grades, target, quarter)\n\u001b[1;32m     33\u001b[0m \u001b[38;5;28mprint\u001b[39m(average(grades, target, quarter))\n\u001b[0;32m---> 34\u001b[0m \u001b[43mplt\u001b[49m\u001b[38;5;241m.\u001b[39mplot(xpoints_avg, ypoints_avg)\n\u001b[1;32m     38\u001b[0m plt\u001b[38;5;241m.\u001b[39mylim(\u001b[38;5;241m70\u001b[39m, \u001b[38;5;241m105\u001b[39m)\n\u001b[1;32m     39\u001b[0m plt\u001b[38;5;241m.\u001b[39mshow()\n",
      "\u001b[0;31mNameError\u001b[0m: name 'plt' is not defined"
     ]
    }
   ],
   "source": [
    "import matplotlib.pyplot as plt\n",
    "import numpy as np\n",
    "\n",
    "quarter = int(input(\"what # quarter are you in right now?: \"))\n",
    "target = int(input(\"what average grade do you need at the END of the school year?: \"))\n",
    "# target = 94\n",
    "grades = []\n",
    "\n",
    "global target_sum\n",
    "global grade_sum\n",
    "global diff_sum\n",
    "\n",
    "for i in range(quarter):\n",
    "    print(\"grade for Q{0} >> \".format(i+1), end=\"\")\n",
    "    temp = int(input())\n",
    "    grades.append(temp)\n",
    "    \n",
    "target_sum = target * 4\n",
    "grade_sum = sum(grades)\n",
    "diff_sum = target_sum - grade_sum\n",
    "\n",
    "\n",
    "def average(grades, target, quarter):\n",
    "    res = []\n",
    "    for i in grades: res.append(i)\n",
    "    \n",
    "    for i in range(4 - quarter):\n",
    "        res.append(diff_sum / (4 - quarter))\n",
    "    return res\n",
    "\n",
    "xpoints_avg = [1, 2, 3, 4]\n",
    "ypoints_avg = average(grades, target, quarter)\n",
    "print(average(grades, target, quarter))\n",
    "plt.plot(xpoints_avg, ypoints_avg)\n",
    "\n",
    "\n",
    "\n",
    "plt.ylim(70, 105)\n",
    "plt.show()"
   ]
  },
  {
   "cell_type": "code",
   "execution_count": 52,
   "id": "45a316bc",
   "metadata": {},
   "outputs": [],
   "source": []
  }
 ],
 "metadata": {
  "kernelspec": {
   "display_name": "Python 3 (ipykernel)",
   "language": "python",
   "name": "python3"
  },
  "language_info": {
   "codemirror_mode": {
    "name": "ipython",
    "version": 3
   },
   "file_extension": ".py",
   "mimetype": "text/x-python",
   "name": "python",
   "nbconvert_exporter": "python",
   "pygments_lexer": "ipython3",
   "version": "3.10.8"
  }
 },
 "nbformat": 4,
 "nbformat_minor": 5
}
